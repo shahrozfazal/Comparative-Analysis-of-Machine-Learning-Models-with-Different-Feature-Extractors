{
  "cells": [
    {
      "cell_type": "markdown",
      "metadata": {
        "id": "yLz22auKPF2w"
      },
      "source": [
        "\n",
        "\n",
        "---\n",
        "\n",
        "\n",
        "# ***SVM Classifier Without Any Explicit Feature Extraction***\n",
        "\n",
        "---\n",
        "\n"
      ]
    },
    {
      "cell_type": "markdown",
      "metadata": {
        "id": "3eq3gzmGQq3w"
      },
      "source": [
        "### ***1. Importing the libraries***"
      ]
    },
    {
      "cell_type": "code",
      "execution_count": 115,
      "metadata": {
        "id": "5R0IlRRVQywY"
      },
      "outputs": [],
      "source": [
        "import pandas as pd\n",
        "import numpy as np\n",
        "import matplotlib.pyplot as plt\n",
        "from sklearn.model_selection import train_test_split, cross_val_score, GridSearchCV\n",
        "from sklearn.preprocessing import StandardScaler\n",
        "from sklearn.svm import SVC\n",
        "from sklearn.metrics import accuracy_score, confusion_matrix, classification_report\n",
        "import time"
      ]
    },
    {
      "cell_type": "markdown",
      "metadata": {
        "id": "T9-IOYhwQ4dF"
      },
      "source": [
        "### ***2. Loading and exploring the dataset for a better understanding.***"
      ]
    },
    {
      "cell_type": "code",
      "execution_count": 116,
      "metadata": {
        "colab": {
          "base_uri": "https://localhost:8080/"
        },
        "id": "qHIw7_waRAM_",
        "outputId": "7c83081a-314e-4a86-c614-732ae420a2c6"
      },
      "outputs": [
        {
          "output_type": "stream",
          "name": "stdout",
          "text": [
            "Drive already mounted at /content/drive; to attempt to forcibly remount, call drive.mount(\"/content/drive\", force_remount=True).\n",
            "Training Data:\n",
            "   label  pixel1  pixel2  pixel3  pixel4  pixel5  pixel6  pixel7  pixel8  \\\n",
            "0      2       0       0       0       0       0       0       0       0   \n",
            "1      9       0       0       0       0       0       0       0       0   \n",
            "2      6       0       0       0       0       0       0       0       5   \n",
            "3      0       0       0       0       1       2       0       0       0   \n",
            "4      3       0       0       0       0       0       0       0       0   \n",
            "\n",
            "   pixel9  ...  pixel775  pixel776  pixel777  pixel778  pixel779  pixel780  \\\n",
            "0       0  ...         0         0         0         0         0         0   \n",
            "1       0  ...         0         0         0         0         0         0   \n",
            "2       0  ...         0         0         0        30        43         0   \n",
            "3       0  ...         3         0         0         0         0         1   \n",
            "4       0  ...         0         0         0         0         0         0   \n",
            "\n",
            "   pixel781  pixel782  pixel783  pixel784  \n",
            "0         0         0         0         0  \n",
            "1         0         0         0         0  \n",
            "2         0         0         0         0  \n",
            "3         0         0         0         0  \n",
            "4         0         0         0         0  \n",
            "\n",
            "[5 rows x 785 columns]\n"
          ]
        }
      ],
      "source": [
        "from google.colab import drive\n",
        "import pandas as pd\n",
        "\n",
        "# Mount Google Drive\n",
        "drive.mount('/content/drive')\n",
        "\n",
        "# Define the path to your dataset\n",
        "dataset_path = '/content/drive/MyDrive/CV Project/Dataset/fashionMNIST-train.csv'\n",
        "\n",
        "# Load Fashion-MNIST training data\n",
        "train_data = pd.read_csv(dataset_path)\n",
        "\n",
        "# Display the first few rows of the training data\n",
        "print(\"Training Data:\")\n",
        "print(train_data.head())"
      ]
    },
    {
      "cell_type": "markdown",
      "metadata": {
        "id": "tZCL5xaHRRz0"
      },
      "source": [
        "### ***3. Feature extraction.***"
      ]
    },
    {
      "cell_type": "code",
      "execution_count": 117,
      "metadata": {
        "colab": {
          "base_uri": "https://localhost:8080/",
          "height": 219
        },
        "id": "6Q8tnC_LRVJ6",
        "outputId": "9a5ae665-5ee3-427f-ac30-8f10ce50bfff"
      },
      "outputs": [
        {
          "output_type": "display_data",
          "data": {
            "text/plain": [
              "<Figure size 1200x300 with 5 Axes>"
            ],
            "image/png": "[encoded data removed]"
          },
          "metadata": {}
        }
      ],
      "source": [
        "# Extract features (pixel values) and labels for training\n",
        "train_labels = train_data['label'].values[:10000]\n",
        "train_images = train_data.iloc[:10000, 1:].values.reshape(-1, 28, 28)\n",
        "\n",
        "# Display the first few images with their labels\n",
        "fig, axes = plt.subplots(1, 5, figsize=(12, 3))\n",
        "for i, ax in enumerate(axes):\n",
        "    ax.imshow(train_images[i], cmap='gray')\n",
        "    ax.set_title(f\"Label: {train_labels[i]}\")\n",
        "    ax.axis('off')\n",
        "plt.show()"
      ]
    },
    {
      "cell_type": "markdown",
      "metadata": {
        "id": "vu_BC0IQReIX"
      },
      "source": [
        "### ***4. Preprocessing the test dataset.***"
      ]
    },
    {
      "cell_type": "code",
      "execution_count": 118,
      "metadata": {
        "id": "InxIsZDKRh5S"
      },
      "outputs": [],
      "source": [
        "# Define the path to your dataset\n",
        "test_dataset_path = '/content/drive/MyDrive/CV Project/Dataset/fashionMNIST-test.csv'\n",
        "\n",
        "# Load Fashion-MNIST test data\n",
        "test_data = pd.read_csv(test_dataset_path)\n",
        "\n",
        "# Extract features (pixel values) and labels for testing\n",
        "test_labels = test_data['label'].values\n",
        "test_images = test_data.iloc[:, 1:].values.reshape(-1, 28, 28)  # Use the entire test dataset\n",
        "\n",
        "# Flatten the images for machine learning models\n",
        "test_images_flat = test_images.reshape(test_images.shape[0], -1)\n",
        "\n",
        "# Normalize pixel values to a common scale (e.g., 0 to 1)\n",
        "test_images_scaled = scaler.transform(test_images_flat.astype(float))\n",
        "\n",
        "# Ensure that test_labels has the same size as the number of samples in the test dataset\n",
        "test_labels = test_labels[:len(test_images)]\n"
      ]
    },
    {
      "cell_type": "markdown",
      "metadata": {
        "id": "w3AhER-1RoK7"
      },
      "source": [
        "### ***5. Flattening the images for both training and testing dataset.***"
      ]
    },
    {
      "cell_type": "code",
      "execution_count": 119,
      "metadata": {
        "id": "AGLf-rjRRxWO"
      },
      "outputs": [],
      "source": [
        "# Flatten the images for machine learning models\n",
        "train_images_flat = train_images.reshape(train_images.shape[0], -1)\n",
        "test_images_flat = test_images.reshape(test_images.shape[0], -1)"
      ]
    },
    {
      "cell_type": "markdown",
      "metadata": {
        "id": "TrpqWAX3R2r9"
      },
      "source": [
        "### ***6. To bring all the images to a common scale for better and smooth processing.***"
      ]
    },
    {
      "cell_type": "code",
      "execution_count": 120,
      "metadata": {
        "id": "uCb6HANDR989"
      },
      "outputs": [],
      "source": [
        "# Normalize pixel values to a common scale (e.g., 0 to 1)\n",
        "scaler = StandardScaler()\n",
        "train_images_scaled = scaler.fit_transform(train_images_flat.astype(float))\n",
        "test_images_scaled = scaler.transform(test_images_flat.astype(float))"
      ]
    },
    {
      "cell_type": "markdown",
      "metadata": {
        "id": "MZjKAHfYSDpf"
      },
      "source": [
        "### ***7. Now splitting the test and train datasets for separate measurements.***"
      ]
    },
    {
      "cell_type": "code",
      "execution_count": 121,
      "metadata": {
        "id": "7U6_Up6XSKrB"
      },
      "outputs": [],
      "source": [
        "# Split the data into training and validation sets\n",
        "train_images_final, val_images_final, train_labels_final, val_labels_final = \\\n",
        "    train_test_split(train_images_scaled, train_labels, test_size=0.2, random_state=42)"
      ]
    },
    {
      "cell_type": "markdown",
      "metadata": {
        "id": "IeTPtfEgSO9z"
      },
      "source": [
        "### ***8. SVM Classifer.***"
      ]
    },
    {
      "cell_type": "code",
      "execution_count": 122,
      "metadata": {
        "id": "T-2lp2PVSTL5"
      },
      "outputs": [],
      "source": [
        "# Create an SVM classifier\n",
        "svm_classifier = SVC(C=1.0)"
      ]
    },
    {
      "cell_type": "markdown",
      "metadata": {
        "id": "YewHuZ7NSVx5"
      },
      "source": [
        "### ***9. Training the model and also measuring the processing time.***"
      ]
    },
    {
      "cell_type": "code",
      "execution_count": 123,
      "metadata": {
        "colab": {
          "base_uri": "https://localhost:8080/"
        },
        "id": "kMch7NiUSYaU",
        "outputId": "e9436bab-6f56-4bc1-917c-86a50c68e774"
      },
      "outputs": [
        {
          "output_type": "stream",
          "name": "stdout",
          "text": [
            "Training Time: 7.49 seconds\n"
          ]
        }
      ],
      "source": [
        "# Training Time\n",
        "start_time = time.time()\n",
        "svm_classifier.fit(train_images_final, train_labels_final)\n",
        "training_time = time.time() - start_time\n",
        "print(f\"Training Time: {training_time:.2f} seconds\")"
      ]
    },
    {
      "cell_type": "markdown",
      "metadata": {
        "id": "E9askNF_Se7H"
      },
      "source": [
        "### ***10. Making predictions using our trained model.***"
      ]
    },
    {
      "cell_type": "code",
      "execution_count": 124,
      "metadata": {
        "colab": {
          "base_uri": "https://localhost:8080/"
        },
        "id": "xg_y2ACQSqqu",
        "outputId": "68020460-25f0-4dea-ef6a-d339bc160ca0"
      },
      "outputs": [
        {
          "output_type": "stream",
          "name": "stdout",
          "text": [
            "Validation Accuracy: 85.20%\n"
          ]
        }
      ],
      "source": [
        "# Make predictions on the validation set\n",
        "val_predictions = svm_classifier.predict(val_images_final)\n",
        "\n",
        "# Evaluate accuracy on the validation set\n",
        "accuracy = accuracy_score(val_labels_final, val_predictions)\n",
        "print(f\"Validation Accuracy: {accuracy * 100:.2f}%\")"
      ]
    },
    {
      "cell_type": "markdown",
      "metadata": {
        "id": "-uT7ytpaThnG"
      },
      "source": [
        "### ***11. Cross Validation.***\n",
        "* 'cross_val_score' is used to perform cross-validation on the SVM model.\n",
        "* 'cv=5' specifies 5-fold cross-validation, dividing the dataset into 5 subsets for training and testing.\n",
        "* 'cross_val_scores' stores the accuracy scores obtained from each fold.\n",
        "* The mean of these scores is calculated to get an overall performance estimate.\n",
        "* The result is printed as cross-validation scores.\n",
        "* I am using a subsample of the data for cross validation since its too large to cross validate the entire dataset. I ran the cross validation on the entire dataset and it took about 25 minutes and still didn't complete."
      ]
    },
    {
      "cell_type": "code",
      "execution_count": 125,
      "metadata": {
        "colab": {
          "base_uri": "https://localhost:8080/"
        },
        "id": "av9D8bwWUgMl",
        "outputId": "5357bfa6-53ed-495f-aa45-d3b88ad920eb"
      },
      "outputs": [
        {
          "output_type": "stream",
          "name": "stdout",
          "text": [
            "Cross-Validation Scores: 85.74%\n"
          ]
        }
      ],
      "source": [
        "# Subsample data for cross-validation\n",
        "subsample_size = 10000\n",
        "subsample_indices = np.random.choice(len(train_labels), size=subsample_size, replace=False)\n",
        "subsampled_images = train_images_scaled[subsample_indices]\n",
        "subsampled_labels = train_labels[subsample_indices]\n",
        "\n",
        "# Cross-Validation Scores using subsampled data\n",
        "cross_val_scores = cross_val_score(svm_classifier, subsampled_images, subsampled_labels, cv=5, n_jobs=-1)\n",
        "print(f\"Cross-Validation Scores: {np.mean(cross_val_scores) * 100:.2f}%\")"
      ]
    },
    {
      "cell_type": "markdown",
      "metadata": {
        "id": "zmjCozUNVkD-"
      },
      "source": [
        "### ***12. Confusion Matrix.***\n",
        "* The confusion matrix is a table that describes the performance of a classification model.\n",
        "* It displays the number of true positive, true negative, false positive, and false negative predictions.\n",
        "* The confusion matrix is printed to analyze how well the SVM model is performing for each class."
      ]
    },
    {
      "cell_type": "code",
      "execution_count": 126,
      "metadata": {
        "colab": {
          "base_uri": "https://localhost:8080/"
        },
        "id": "Fd4hgy5TVrU3",
        "outputId": "6a461b80-3361-4e37-f852-9c2dcf67218a"
      },
      "outputs": [
        {
          "output_type": "stream",
          "name": "stdout",
          "text": [
            "Confusion Matrix:\n",
            "[[744   4  27  90   3   0 117   0  14   1]\n",
            " [  7 964   7  18   1   0   3   0   0   0]\n",
            " [ 35   3 680  16 164   0  95   0   7   0]\n",
            " [ 47  33  17 808  54   0  40   0   1   0]\n",
            " [  2   0 120  48 739   0  88   0   3   0]\n",
            " [ 12   1   1   1   1 788   2 116   7  71]\n",
            " [168   7 156  69 133   1 455   0  10   1]\n",
            " [  0   0   0   0   0  61   0 885   0  54]\n",
            " [  6   4  25   9   7   7  34   6 900   2]\n",
            " [  0   0   1   0   0  37   0  64   1 897]]\n"
          ]
        }
      ],
      "source": [
        "test_predictions_subset = best_svm_classifier_large.predict(test_images_scaled[:subset_size_test])\n",
        "\n",
        "# Compute the confusion matrix for the test subset\n",
        "conf_matrix = confusion_matrix(test_labels[:subset_size_test], test_predictions_subset)\n",
        "print(\"Confusion Matrix:\")\n",
        "print(conf_matrix)"
      ]
    },
    {
      "cell_type": "markdown",
      "metadata": {
        "id": "L4GEEr11VvVJ"
      },
      "source": [
        "### ***13. Classification Report.***\n",
        "* The classification report provides a detailed summary of the model's performance.\n",
        "* It includes precision, recall, F1-score, and support for each class.\n",
        "* The classification report is printed to offer a more granular analysis of the SVM model's capabilities."
      ]
    },
    {
      "cell_type": "code",
      "execution_count": 127,
      "metadata": {
        "id": "fPcB2sG9VzjP",
        "colab": {
          "base_uri": "https://localhost:8080/"
        },
        "outputId": "54e5a200-759c-4cbf-e361-5bd580baa650"
      },
      "outputs": [
        {
          "output_type": "stream",
          "name": "stdout",
          "text": [
            "Classification Report:\n",
            "              precision    recall  f1-score   support\n",
            "\n",
            "           0       0.73      0.74      0.74      1000\n",
            "           1       0.95      0.96      0.96      1000\n",
            "           2       0.66      0.68      0.67      1000\n",
            "           3       0.76      0.81      0.78      1000\n",
            "           4       0.67      0.74      0.70      1000\n",
            "           5       0.88      0.79      0.83      1000\n",
            "           6       0.55      0.46      0.50      1000\n",
            "           7       0.83      0.89      0.85      1000\n",
            "           8       0.95      0.90      0.93      1000\n",
            "           9       0.87      0.90      0.89      1000\n",
            "\n",
            "    accuracy                           0.79     10000\n",
            "   macro avg       0.79      0.79      0.78     10000\n",
            "weighted avg       0.79      0.79      0.78     10000\n",
            "\n"
          ]
        }
      ],
      "source": [
        "from sklearn.metrics import classification_report\n",
        "\n",
        "# Make predictions on the first 1000 rows of the test set\n",
        "test_predictions_subset = best_svm_classifier_large.predict(test_images_scaled[:subset_size_test])\n",
        "\n",
        "# Compute the classification report for the test subset\n",
        "class_report = classification_report(test_labels[:subset_size_test], test_predictions_subset)\n",
        "print(\"Classification Report:\")\n",
        "print(class_report)\n"
      ]
    },
    {
      "cell_type": "markdown",
      "source": [
        "## ***Analysis***\n",
        "\n",
        "### ***Class 0 (T-shirt/top):***\n",
        "\n",
        "Precision: 0.76,\n",
        "Out of all instances predicted as T-shirt/top, 76% were correct.\n",
        "Recall: 0.70,\n",
        "Out of all actual T-shirt/top instances, 70% were correctly predicted.\n",
        "F1-score: 0.73,\n",
        "A balance between precision and recall for T-shirt/top.\n",
        "\n",
        "### ***Class 1 (Trouser):***\n",
        "\n",
        "Precision: 0.96,\n",
        "96% of instances predicted as Trouser were correct.\n",
        "Recall: 0.98,\n",
        "98% of actual Trouser instances were correctly predicted.\n",
        "F1-score: 0.97,\n",
        "A high balance between precision and recall for Trouser.\n",
        "\n",
        "### ***Class 2 (Pullover):***\n",
        "\n",
        "Precision: 0.64,\n",
        "64% of instances predicted as Pullover were correct.\n",
        "Recall: 0.65,\n",
        "65% of actual Pullover instances were correctly predicted.\n",
        "F1-score: 0.65,\n",
        "A balance between precision and recall for Pullover.\n",
        "\n",
        "### ***Class 3 (Dress):***\n",
        "\n",
        "Precision: 0.80,\n",
        "80% of instances predicted as Dress were correct.\n",
        "Recall: 0.85,\n",
        "85% of actual Dress instances were correctly predicted.\n",
        "F1-score: 0.82,\n",
        "A balanced measure of precision and recall for Dress.\n",
        "\n",
        "### ***Class 4 (Coat):***\n",
        "\n",
        "Precision: 0.62,\n",
        "62% of instances predicted as Coat were correct.\n",
        "Recall: 0.70,\n",
        "70% of actual Coat instances were correctly predicted.\n",
        "F1-score: 0.66,\n",
        "A balanced measure for Coat with precision and recall.\n",
        "\n",
        "### ***Class 5 (Sandal):***\n",
        "\n",
        "Precision: 0.92,\n",
        "92% of instances predicted as Sandal were correct.\n",
        "Recall: 0.82,\n",
        "82% of actual Sandal instances were correctly predicted.\n",
        "F1-score: 0.87,\n",
        "A high balance between precision and recall for Sandal.\n",
        "\n",
        "### ***Class 6 (Shirt):***\n",
        "\n",
        "Precision: 0.54,\n",
        "54% of instances predicted as Shirt were correct.\n",
        "Recall: 0.52,\n",
        "52% of actual Shirt instances were correctly predicted.\n",
        "F1-score: 0.53,\n",
        "A moderate balance between precision and recall for Shirt.\n",
        "\n",
        "### ***Class 7 (Sneaker):***\n",
        "\n",
        "Precision: 0.86,\n",
        "86% of instances predicted as Sneaker were correct.\n",
        "Recall: 0.94,\n",
        "94% of actual Sneaker instances were correctly predicted.\n",
        "F1-score: 0.90,\n",
        "A high balance between precision and recall for Sneaker.\n",
        "\n",
        "### ***Class 8 (Bag):***\n",
        "\n",
        "Precision: 0.96,\n",
        "96% of instances predicted as Bag were correct.\n",
        "Recall: 0.87,\n",
        "87% of actual Bag instances were correctly predicted.\n",
        "F1-score: 0.91,\n",
        "A high balance between precision and recall for Bag.\n",
        "\n",
        "### ***Class 9 (Ankle boot):***\n",
        "\n",
        "Precision: 0.91,\n",
        "91% of instances predicted as Ankle boot were correct.\n",
        "Recall: 0.91,\n",
        "91% of actual Ankle boot instances were correctly predicted.\n",
        "F1-score: 0.91,\n",
        "A high balance between precision and recall for Ankle boot.\n",
        "\n",
        "### ***Accuracy:***\n",
        "\n",
        "* Overall accuracy: 0.79 (79%).\n",
        "The model correctly predicted the class for 79% of instances in the test set.\n",
        "\n",
        "* Macro avg:\n",
        "Macro avg precision, recall, and F1-score: 0.80.\n",
        "The average precision, recall, and F1-score across all classes.\n",
        "\n",
        "* Weighted avg:\n",
        "Weighted avg precision, recall, and F1-score: 0.79.\n",
        "The weighted average considering the number of instances for each class."
      ],
      "metadata": {
        "id": "HUcS0lFKDaDf"
      }
    },
    {
      "cell_type": "markdown",
      "source": [
        "\n",
        "\n",
        "---\n",
        "\n",
        "\n",
        "# ***SVM Classifier With HOG Feature Extraction***\n",
        "\n",
        "---\n",
        "\n"
      ],
      "metadata": {
        "id": "8q9b7u_IIFLb"
      }
    },
    {
      "cell_type": "code",
      "source": [
        "import numpy as np\n",
        "from sklearn.model_selection import RandomizedSearchCV, cross_val_score, train_test_split\n",
        "from sklearn.svm import SVC\n",
        "from sklearn.preprocessing import StandardScaler\n",
        "from skimage.feature import hog\n",
        "from sklearn.metrics import accuracy_score, confusion_matrix, classification_report\n",
        "\n",
        "# Function to extract HOG features from an image\n",
        "def extract_hog_features(images):\n",
        "    hog_features = []\n",
        "    for image in images:\n",
        "        # Calculate HOG features and flatten the result\n",
        "        features, hog_image = hog(image, visualize=True, block_norm='L2-Hys')\n",
        "        hog_features.append(features)\n",
        "    return np.array(hog_features)\n",
        "\n",
        "# Extract HOG features for training images\n",
        "train_images_hog = extract_hog_features(train_images)\n",
        "\n",
        "# Extract HOG features for test images\n",
        "test_images_hog = extract_hog_features(test_images)\n",
        "\n",
        "# Flatten the HOG features\n",
        "train_images_hog_flat = train_images_hog.reshape(train_images_hog.shape[0], -1)\n",
        "test_images_hog_flat = test_images_hog.reshape(test_images_hog.shape[0], -1)\n",
        "\n",
        "# Normalize pixel values to a common scale (e.g., 0 to 1)\n",
        "scaler_hog = StandardScaler()\n",
        "train_images_hog_scaled = scaler_hog.fit_transform(train_images_hog_flat.astype(float))\n",
        "test_images_hog_scaled = scaler_hog.transform(test_images_hog_flat.astype(float))\n",
        "\n",
        "# Split the data into training and validation sets\n",
        "train_images_hog_final, val_images_hog_final, train_labels_final, val_labels_final = \\\n",
        "    train_test_split(train_images_hog_scaled, train_labels, test_size=0.2, random_state=42)\n",
        "\n",
        "# Create an SVM classifier for HOG features\n",
        "svm_classifier_hog = SVC(C=1.0)\n",
        "\n",
        "# Training Time before\n",
        "start_time_before_tuning = time.time()\n",
        "svm_classifier_hog.fit(train_images_hog_final, train_labels_final)\n",
        "training_time_before_tuning = time.time() - start_time_before_tuning\n",
        "print(f\"Training Time: {training_time_before_tuning:.2f} seconds\")\n",
        "\n",
        "# Make predictions on the validation set\n",
        "val_predictions_before_tuning = svm_classifier_hog.predict(val_images_hog_final)\n",
        "\n",
        "# Evaluate accuracy on the validation set\n",
        "accuracy_before_tuning = accuracy_score(val_labels_final, val_predictions_before_tuning)\n",
        "print(f\"Validation Accuracy: {accuracy_before_tuning * 100:.2f}%\")\n"
      ],
      "metadata": {
        "colab": {
          "base_uri": "https://localhost:8080/"
        },
        "id": "m8q5Xv4HIUoG",
        "outputId": "91229229-64bb-4895-a0a6-97792c033d09"
      },
      "execution_count": 128,
      "outputs": [
        {
          "output_type": "stream",
          "name": "stdout",
          "text": [
            "Training Time: 1.73 seconds\n",
            "Validation Accuracy: 82.20%\n"
          ]
        }
      ]
    },
    {
      "cell_type": "code",
      "source": [
        "# Cross-Validation Scores for HOG features\n",
        "cross_val_scores_hog = cross_val_score(svm_classifier_hog, train_images_hog_scaled, train_labels, cv=5, n_jobs=-1)\n",
        "print(f\"Cross-Validation Scores for HOG Features: {np.mean(cross_val_scores_hog) * 100:.2f}%\")"
      ],
      "metadata": {
        "colab": {
          "base_uri": "https://localhost:8080/"
        },
        "id": "MsLnJlTlM928",
        "outputId": "2fad933f-8336-46e9-d4c5-c63b5c4fe1f3"
      },
      "execution_count": 129,
      "outputs": [
        {
          "output_type": "stream",
          "name": "stdout",
          "text": [
            "Cross-Validation Scores for HOG Features: 82.35%\n"
          ]
        }
      ]
    },
    {
      "cell_type": "code",
      "source": [
        "svm_classifier_hog.fit(train_images_hog_scaled, train_labels)\n",
        "\n",
        "# Make predictions on the test set using HOG features\n",
        "test_predictions_hog = svm_classifier_hog.predict(test_images_hog_scaled)\n",
        "\n",
        "# Compute the confusion matrix for HOG features\n",
        "conf_matrix_hog = confusion_matrix(test_labels, test_predictions_hog)\n",
        "print(\"Confusion Matrix for HOG Features:\")\n",
        "print(conf_matrix_hog)"
      ],
      "metadata": {
        "colab": {
          "base_uri": "https://localhost:8080/"
        },
        "id": "Xa_9gXT1NCbJ",
        "outputId": "eb1d96fb-8d88-4ca5-fba5-bb8a4ebd85a9"
      },
      "execution_count": 130,
      "outputs": [
        {
          "output_type": "stream",
          "name": "stdout",
          "text": [
            "Confusion Matrix for HOG Features:\n",
            "[[819   4  28  42   7   1  86   0  13   0]\n",
            " [  2 956   4  30   1   0   6   0   1   0]\n",
            " [ 19   0 707   8 135   0 124   0   7   0]\n",
            " [ 25  11   7 881  41   0  34   0   1   0]\n",
            " [  1   1  63  36 760   0 136   0   3   0]\n",
            " [  0   0   0   1   0 911   0  68   1  19]\n",
            " [188   4  93  42 115   0 550   0   8   0]\n",
            " [  0   0   0   0   0  46   0 904   0  50]\n",
            " [  5   1   2   3   3   5  11   1 968   1]\n",
            " [  0   0   0   0   0  12   0  33   1 954]]\n"
          ]
        }
      ]
    },
    {
      "cell_type": "code",
      "source": [
        "# Compute the classification report for HOG features\n",
        "class_report_hog = classification_report(test_labels, test_predictions_hog)\n",
        "print(\"Classification Report for HOG Features:\")\n",
        "print(class_report_hog)"
      ],
      "metadata": {
        "colab": {
          "base_uri": "https://localhost:8080/"
        },
        "id": "6HaXkPuoNGAo",
        "outputId": "244ca4c8-e340-4563-d7ac-67aef6dd7c58"
      },
      "execution_count": 131,
      "outputs": [
        {
          "output_type": "stream",
          "name": "stdout",
          "text": [
            "Classification Report for HOG Features:\n",
            "              precision    recall  f1-score   support\n",
            "\n",
            "           0       0.77      0.82      0.80      1000\n",
            "           1       0.98      0.96      0.97      1000\n",
            "           2       0.78      0.71      0.74      1000\n",
            "           3       0.84      0.88      0.86      1000\n",
            "           4       0.72      0.76      0.74      1000\n",
            "           5       0.93      0.91      0.92      1000\n",
            "           6       0.58      0.55      0.56      1000\n",
            "           7       0.90      0.90      0.90      1000\n",
            "           8       0.97      0.97      0.97      1000\n",
            "           9       0.93      0.95      0.94      1000\n",
            "\n",
            "    accuracy                           0.84     10000\n",
            "   macro avg       0.84      0.84      0.84     10000\n",
            "weighted avg       0.84      0.84      0.84     10000\n",
            "\n"
          ]
        }
      ]
    },
    {
      "cell_type": "markdown",
      "source": [
        "# ***Our Overall accuracy has been improved by using HOG.***"
      ],
      "metadata": {
        "id": "SXqep1lbX7DC"
      }
    },
    {
      "cell_type": "markdown",
      "source": [
        "\n",
        "\n",
        "---\n",
        "\n",
        "# ***SVM with SIFT***\n",
        "\n",
        "---\n",
        "\n"
      ],
      "metadata": {
        "id": "xLVV1jZoZBdv"
      }
    },
    {
      "cell_type": "code",
      "source": [
        "import cv2\n",
        "import numpy as np\n",
        "from sklearn.svm import SVC\n",
        "from sklearn.preprocessing import StandardScaler\n",
        "from sklearn.model_selection import train_test_split\n",
        "from sklearn.metrics import accuracy_score\n",
        "import time\n",
        "\n",
        "# Function to extract SIFT features from an image\n",
        "def extract_sift_features(images):\n",
        "    sift = cv2.SIFT_create()\n",
        "    sift_features = []\n",
        "\n",
        "    for image in images:\n",
        "        # Ensure the image is in uint8 format\n",
        "        image = (image * 255).astype(np.uint8)\n",
        "\n",
        "        keypoints, descriptors = sift.detectAndCompute(image, None)\n",
        "\n",
        "        # Ensure descriptors is not None\n",
        "        if descriptors is not None:\n",
        "            # Flatten and zero-pad descriptors to a fixed length (e.g., 128)\n",
        "            flattened_descriptors = descriptors.flatten()[:128]\n",
        "            zero_padding = np.zeros(128 - len(flattened_descriptors))\n",
        "            sift_features.append(np.concatenate([flattened_descriptors, zero_padding]))\n",
        "        else:\n",
        "            sift_features.append(np.zeros(128))\n",
        "\n",
        "    return np.array(sift_features)\n",
        "\n",
        "# Extract SIFT features for training images\n",
        "train_images_sift = extract_sift_features(train_images)\n",
        "\n",
        "# Extract SIFT features for test images\n",
        "test_images_sift = extract_sift_features(test_images)\n",
        "\n",
        "# Normalize pixel values to a common scale (e.g., 0 to 1)\n",
        "scaler_sift = StandardScaler()\n",
        "train_images_sift_scaled = scaler_sift.fit_transform(train_images_sift.astype(float))\n",
        "test_images_sift_scaled = scaler_sift.transform(test_images_sift.astype(float))\n",
        "\n",
        "# Split the data into training and validation sets\n",
        "train_images_sift_final, val_images_sift_final, train_labels_final, val_labels_final = \\\n",
        "    train_test_split(train_images_sift_scaled, train_labels, test_size=0.2, random_state=42)\n",
        "\n",
        "# Create an SVM classifier for SIFT features\n",
        "svm_classifier_sift = SVC(C=1.0)\n",
        "\n",
        "# Training Time\n",
        "start_time_before_tuning_sift = time.time()\n",
        "svm_classifier_sift.fit(train_images_sift_final, train_labels_final)\n",
        "training_time_before_tuning_sift = time.time() - start_time_before_tuning_sift\n",
        "print(f\"Training Time: {training_time_before_tuning_sift:.2f} seconds\")\n",
        "\n",
        "# Make predictions on the validation set\n",
        "val_predictions_before_tuning_sift = svm_classifier_sift.predict(val_images_sift_final)\n",
        "\n",
        "# Evaluate accuracy on the validation set\n",
        "accuracy_before_tuning_sift = accuracy_score(val_labels_final, val_predictions_before_tuning_sift)\n",
        "print(f\"Validation Accuracy: {accuracy_before_tuning_sift * 100:.2f}%\")\n"
      ],
      "metadata": {
        "colab": {
          "base_uri": "https://localhost:8080/"
        },
        "id": "BzlQ5jDeZH_n",
        "outputId": "eab3e1f0-7218-4cb1-e17d-30fd9e6abaa1"
      },
      "execution_count": 132,
      "outputs": [
        {
          "output_type": "stream",
          "name": "stdout",
          "text": [
            "Training Time before Hyperparameter Tuning (SIFT): 9.96 seconds\n",
            "Validation Accuracy before Hyperparameter Tuning (SIFT): 36.55%\n"
          ]
        }
      ]
    },
    {
      "cell_type": "code",
      "source": [
        "# Cross-Validation Scores for SIFT features\n",
        "cross_val_scores_sift = cross_val_score(svm_classifier_sift, train_images_sift_scaled, train_labels, cv=5, n_jobs=-1)\n",
        "print(f\"Cross-Validation Scores for SIFT Features: {np.mean(cross_val_scores_sift) * 100:.2f}%\")\n"
      ],
      "metadata": {
        "colab": {
          "base_uri": "https://localhost:8080/"
        },
        "id": "vuwZYJNDfHYJ",
        "outputId": "63be3764-2f64-43ab-fede-f43bb7e11f49"
      },
      "execution_count": 133,
      "outputs": [
        {
          "output_type": "stream",
          "name": "stdout",
          "text": [
            "Cross-Validation Scores for SIFT Features: 36.85%\n"
          ]
        }
      ]
    },
    {
      "cell_type": "code",
      "source": [
        "# Fit SVM classifier on SIFT features\n",
        "svm_classifier_sift.fit(train_images_sift_scaled, train_labels)\n",
        "\n",
        "# Make predictions on the test set using SIFT features\n",
        "test_predictions_sift = svm_classifier_sift.predict(test_images_sift_scaled)\n",
        "\n",
        "# Compute the confusion matrix for SIFT features\n",
        "conf_matrix_sift = confusion_matrix(test_labels, test_predictions_sift)\n",
        "print(\"Confusion Matrix for SIFT Features:\")\n",
        "print(conf_matrix_sift)\n"
      ],
      "metadata": {
        "colab": {
          "base_uri": "https://localhost:8080/"
        },
        "id": "lkNBm29RfPk3",
        "outputId": "2acf8865-ea3d-4d4a-ad3b-50d00a4e38ab"
      },
      "execution_count": 134,
      "outputs": [
        {
          "output_type": "stream",
          "name": "stdout",
          "text": [
            "Confusion Matrix for SIFT Features:\n",
            "[[299  45  46 226  31  48 104  18 127  56]\n",
            " [ 16 580  21 205  14  58  10  38  37  21]\n",
            " [ 40  29 235 239  91  19 195  13  98  41]\n",
            " [ 71 160  29 421  33  49  67  59  66  45]\n",
            " [ 57  44  84 254 182  36 169  15 120  39]\n",
            " [ 29  70  10  73  16 375  20 186  89 132]\n",
            " [126  47  61 222  74  31 282  17 101  39]\n",
            " [ 21  62   3 134   8  90  12 521  33 116]\n",
            " [ 51  45  68 202  48  84  62  34 345  61]\n",
            " [ 26  15  14 118  18  89  14  79  82 545]]\n"
          ]
        }
      ]
    },
    {
      "cell_type": "code",
      "source": [
        "# Compute the classification report for SIFT features\n",
        "class_report_sift = classification_report(test_labels, test_predictions_sift)\n",
        "print(\"Classification Report for SIFT Features:\")\n",
        "print(class_report_sift)"
      ],
      "metadata": {
        "colab": {
          "base_uri": "https://localhost:8080/"
        },
        "id": "_ZeLlktkfbMf",
        "outputId": "009527a4-c624-4923-a739-e2bd42a9b26d"
      },
      "execution_count": 135,
      "outputs": [
        {
          "output_type": "stream",
          "name": "stdout",
          "text": [
            "Classification Report for SIFT Features:\n",
            "              precision    recall  f1-score   support\n",
            "\n",
            "           0       0.41      0.30      0.34      1000\n",
            "           1       0.53      0.58      0.55      1000\n",
            "           2       0.41      0.23      0.30      1000\n",
            "           3       0.20      0.42      0.27      1000\n",
            "           4       0.35      0.18      0.24      1000\n",
            "           5       0.43      0.38      0.40      1000\n",
            "           6       0.30      0.28      0.29      1000\n",
            "           7       0.53      0.52      0.53      1000\n",
            "           8       0.31      0.34      0.33      1000\n",
            "           9       0.50      0.55      0.52      1000\n",
            "\n",
            "    accuracy                           0.38     10000\n",
            "   macro avg       0.40      0.38      0.38     10000\n",
            "weighted avg       0.40      0.38      0.38     10000\n",
            "\n"
          ]
        }
      ]
    }
  ],
  "metadata": {
    "colab": {
      "provenance": []
    },
    "kernelspec": {
      "display_name": "Python 3",
      "name": "python3"
    },
    "language_info": {
      "name": "python"
    }
  },
  "nbformat": 4,
  "nbformat_minor": 0
}